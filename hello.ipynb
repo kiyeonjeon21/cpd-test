{
 "cells": [
  {
   "cell_type": "code",
   "execution_count": 1,
   "id": "ff6aaab2-e78a-46dc-905d-a1795c848494",
   "metadata": {
    "id": "e20870ce-2d3a-441f-bc64-560620a6f066"
   },
   "outputs": [
    {
     "name": "stdout",
     "output_type": "stream",
     "text": [
      "hello world\n"
     ]
    }
   ],
   "source": [
    "print(\"hello world\")"
   ]
  },
  {
   "cell_type": "code",
   "execution_count": null,
   "id": "3998abc3-7df9-4e98-9d73-509d5cddf6db",
   "metadata": {
    "id": "3998abc3-7df9-4e98-9d73-509d5cddf6db"
   },
   "outputs": [],
   "source": []
  }
 ],
 "metadata": {
  "kernelspec": {
   "display_name": "Python 3.11",
   "language": "python",
   "name": "python3"
  },
  "language_info": {
   "codemirror_mode": {
    "name": "ipython",
    "version": 3
   },
   "file_extension": ".py",
   "mimetype": "text/x-python",
   "name": "python",
   "nbconvert_exporter": "python",
   "pygments_lexer": "ipython3",
   "version": "3.11.9"
  }
 },
 "nbformat": 4,
 "nbformat_minor": 5
}
